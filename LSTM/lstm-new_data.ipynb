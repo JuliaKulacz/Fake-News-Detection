{
 "cells": [
  {
   "cell_type": "code",
   "execution_count": 1,
   "metadata": {},
   "outputs": [
    {
     "name": "stderr",
     "output_type": "stream",
     "text": [
      "c:\\users\\jurus\\desktop\\machine learing lab auta\\lib\\site-packages\\gensim\\similarities\\__init__.py:15: UserWarning: The gensim.similarities.levenshtein submodule is disabled, because the optional Levenshtein package <https://pypi.org/project/python-Levenshtein/> is unavailable. Install Levenhstein (e.g. `pip install python-Levenshtein`) to suppress this warning.\n",
      "  warnings.warn(msg)\n"
     ]
    }
   ],
   "source": [
    "import re\n",
    "\n",
    "import tensorflow as tf\n",
    "from tensorflow.keras.preprocessing.text import Tokenizer\n",
    "from tensorflow.keras.preprocessing.sequence import pad_sequences\n",
    "from tensorflow.keras.models import Sequential\n",
    "from tensorflow.keras.layers import Dense, Embedding, LSTM, Bidirectional, Dropout\n",
    "\n",
    "import gensim\n",
    "from gensim.models import word2vec\n",
    "from gensim.models.phrases import Phraser, Phrases\n",
    "\n",
    "import nltk\n",
    "from nltk.stem.wordnet import WordNetLemmatizer\n",
    "from nltk.corpus import stopwords\n",
    "from nltk import ngrams\n",
    "\n",
    "from wordcloud import WordCloud\n",
    "\n",
    "from sklearn.model_selection import train_test_split\n",
    "from sklearn import feature_extraction, model_selection, manifold\n",
    "from sklearn.metrics import precision_recall_curve, accuracy_score, confusion_matrix, roc_auc_score, classification_report, roc_curve, auc, f1_score\n",
    "\n",
    "import pandas as pd\n",
    "import numpy as np\n",
    "import html\n",
    "import matplotlib.pyplot as plt\n",
    "import seaborn as sns"
   ]
  },
  {
   "cell_type": "code",
   "execution_count": 2,
   "metadata": {},
   "outputs": [
    {
     "name": "stderr",
     "output_type": "stream",
     "text": [
      "[nltk_data] Downloading package wordnet to\n",
      "[nltk_data]     C:\\Users\\jurus\\AppData\\Roaming\\nltk_data...\n",
      "[nltk_data]   Package wordnet is already up-to-date!\n",
      "[nltk_data] Downloading package averaged_perceptron_tagger to\n",
      "[nltk_data]     C:\\Users\\jurus\\AppData\\Roaming\\nltk_data...\n",
      "[nltk_data]   Package averaged_perceptron_tagger is already up-to-\n",
      "[nltk_data]       date!\n"
     ]
    },
    {
     "data": {
      "text/plain": [
       "True"
      ]
     },
     "execution_count": 2,
     "metadata": {},
     "output_type": "execute_result"
    }
   ],
   "source": [
    "nltk.download('wordnet')\n",
    "nltk.download('averaged_perceptron_tagger')"
   ]
  },
  {
   "cell_type": "code",
   "execution_count": 3,
   "metadata": {},
   "outputs": [],
   "source": [
    "#DATA\n",
    "\n",
    "df_train = pd.read_csv(\"C:/Users/jurus/Documents/AGH/Praca inżynierska/data_2/train.csv\")\n",
    "df_test = pd.read_csv(\"C:/Users/jurus/Documents/AGH/Praca inżynierska/data_2/test.csv\")\n",
    "df_labels = pd.read_csv(\"C:/Users/jurus/Documents/AGH/Praca inżynierska/data_2/submit.csv\")\n",
    "\n",
    "df_test['label'] = df_labels['label']\n",
    "\n",
    "df = pd.concat([df_train, df_test]).reset_index(drop=True)\n",
    "\n",
    "df.drop(columns=['author'], inplace=True)\n",
    "\n",
    "# Combining 'title' and 'text' colmuns together\n",
    "df['original'] = df['title'] + ' ' + df['text']"
   ]
  },
  {
   "cell_type": "code",
   "execution_count": null,
   "metadata": {},
   "outputs": [],
   "source": [
    "# Shuffling data\n",
    "df = df.sample(frac=1)\n",
    "# Dropping duplicates & NaN rows\n",
    "df.drop_duplicates(subset=['text'], inplace=True)\n",
    "df.dropna(subset = [\"text\"], inplace=True)\n",
    "df.dropna(subset = [\"title\"], inplace=True)"
   ]
  },
  {
   "cell_type": "code",
   "execution_count": 5,
   "metadata": {},
   "outputs": [],
   "source": [
    "#DATA CLEANING\n",
    "\n",
    "# Obtaining additional stopwords from nltk\n",
    "stop_words = stopwords.words('english')\n",
    "\n",
    "def cleaning(text):\n",
    "    clean = re.sub('<.*?>', ' ', str(text))         \n",
    "# Removing HTML tags\n",
    "    clean = re.sub('\\'.*?\\s',' ', clean)               \n",
    "# Removing all hanging letters afer apostrophes (s in it's)\n",
    "    clean = re.sub(r'http\\S+',' ', clean)              \n",
    "# Removing URLs\n",
    "    clean = re.sub('\\W+',' ', clean)                   \n",
    "# Replacing the non alphanumeric characters\n",
    "    return html.unescape(clean)\n",
    "df['cleaned'] = df['original'].apply(cleaning)\n",
    "\n",
    "\n",
    "def stopwords(text):\n",
    "    result = []\n",
    "    for token in gensim.utils.simple_preprocess(text):\n",
    "        # Taking words that don't belong to stopwords and have more than 2 characters\n",
    "        if token not in gensim.parsing.preprocessing.STOPWORDS and len(token) > 3 and token not in stop_words:\n",
    "            result.append(token)\n",
    "\n",
    "    return result\n",
    "df['nostopwords'] = df['cleaned'].apply(stopwords)"
   ]
  },
  {
   "cell_type": "code",
   "execution_count": 7,
   "metadata": {},
   "outputs": [],
   "source": [
    "# Lemmatizing\n",
    "wnl = WordNetLemmatizer()\n",
    "df['clean_lemm'] = df['nostopwords'].apply(lambda x: [wnl.lemmatize(word, pos=\"v\") for word in x])\n",
    "df['clean_lemm'] = df['clean_lemm'].apply(lambda x: [wnl.lemmatize(word, pos=\"a\") for word in x])\n",
    "df['clean_lemm'] = df['clean_lemm'].apply(lambda x: [wnl.lemmatize(word, pos=\"n\") for word in x])"
   ]
  },
  {
   "cell_type": "code",
   "execution_count": 8,
   "metadata": {},
   "outputs": [
    {
     "name": "stdout",
     "output_type": "stream",
     "text": [
      "4829     berkeley ban coulter plan speak breitbart camp...\n",
      "11762    teacher receive pushback compare build wall sh...\n",
      "13104    russia army complete modernization program rbt...\n",
      "25557    rice size hit bull time york time despite size...\n",
      "18311    debate possibility worry campaign york time hi...\n",
      "                               ...                        \n",
      "8837     coulter immigrant privilege drive child rape e...\n",
      "14996    roman polanski agree face rape charge judge re...\n",
      "14775    giraffe tower otherworldly vulnerable extincti...\n",
      "22053    israeli scientist develop blood test diagnose ...\n",
      "18450    share mission pardon soldier kill civilian yor...\n",
      "Name: clean_joined, Length: 25433, dtype: object\n"
     ]
    }
   ],
   "source": [
    "# All unique words present in dataset in one string\n",
    "df['clean_joined'] = df['clean_lemm'].apply(lambda x: \" \".join(x))\n",
    "print(df['clean_joined'])"
   ]
  },
  {
   "cell_type": "code",
   "execution_count": 66,
   "metadata": {},
   "outputs": [],
   "source": [
    "#WORD2VEC\n",
    "\n",
    "# Target class is 'label'\n",
    "x_train, x_test, y_train, y_test = train_test_split(df.clean_joined, df.label, test_size=0.2)\n",
    "\n",
    "# Creating list of lists of unigrams - training and testing corpus\n",
    "\n",
    "def corpus(corpus):\n",
    "    lst_corpus = []\n",
    "    for string in corpus:\n",
    "        lst_words = string.split()\n",
    "        lst_grams = [\" \".join(lst_words[i:i+1]) for i in range(0, len(lst_words), 1)]\n",
    "        lst_corpus.append(lst_grams)\n",
    "    return lst_corpus\n",
    "\n",
    "corpus_train = corpus(x_train)\n",
    "corpus_test = corpus(x_test)\n",
    "\n",
    "# Creating relevant phrases from the corpus:\n",
    "phrases_train = Phrases(corpus_train)\n",
    "phrases_test = Phrases(corpus_test)\n",
    "\n",
    "\n",
    "# The Phraser object is used to transform sentences\n",
    "bigram_train = Phraser(phrases_train)\n",
    "bigram_test = Phraser(phrases_test)\n",
    "\n",
    "\n",
    "# Applying the Phraser to transform corpus\n",
    "all_phrases_train = list(bigram_train[corpus_train])\n",
    "all_phrases_test= list(bigram_test[corpus_test])\n",
    "\n",
    "\n",
    "# Fitting Word2Vec\n",
    "nlp_train = word2vec.Word2Vec(all_phrases_train, vector_size=300, window=5, min_count=7, sg=1)\n",
    "nlp_test = word2vec.Word2Vec(all_phrases_test, vector_size=300, window=5, min_count=7, sg=1)"
   ]
  },
  {
   "cell_type": "code",
   "execution_count": 67,
   "metadata": {},
   "outputs": [
    {
     "data": {
      "text/plain": [
       "[('dialect', 0.5748217701911926),\n",
       " ('fluent', 0.5529404282569885),\n",
       " ('hindi', 0.552388608455658),\n",
       " ('native_language', 0.550155520439148),\n",
       " ('mother_tongue', 0.546684741973877),\n",
       " ('different_language', 0.545417845249176),\n",
       " ('vocabulary', 0.5426989793777466),\n",
       " ('fluency', 0.535427987575531),\n",
       " ('english_spanish', 0.5174385905265808),\n",
       " ('verb', 0.5167146325111389)]"
      ]
     },
     "execution_count": 67,
     "metadata": {},
     "output_type": "execute_result"
    }
   ],
   "source": [
    "nlp_train.wv.most_similar('language')"
   ]
  },
  {
   "cell_type": "code",
   "execution_count": 12,
   "metadata": {},
   "outputs": [
    {
     "name": "stdout",
     "output_type": "stream",
     "text": [
      "[('donald_trump', 0.6300867795944214), ('republican_candidate', 0.6272005438804626), ('republican_convention', 0.6048397421836853), ('republican_nominee', 0.5957688689231873), ('hrafnkell_haraldsson', 0.5933564305305481), ('machado', 0.5903124809265137), ('donald', 0.5892179608345032), ('immigration_stance', 0.5858463644981384), ('donald_trumpâ', 0.5855476260185242), ('divisive_vision', 0.5855449438095093)]\n",
      "[('donald_trump', 0.6887159943580627), ('trump_presumptive', 0.6762503981590271), ('indiana_governor', 0.6392880082130432), ('incoming_president', 0.6339762806892395), ('senor', 0.6328524947166443), ('fiorina', 0.6305186152458191), ('trump_candidacy', 0.62835294008255), ('disincline', 0.6236808896064758), ('distract_attention', 0.6146733164787292), ('trump_unfit', 0.6141461730003357)]\n"
     ]
    }
   ],
   "source": [
    "# Checking corpuses for fake and real news\n",
    "\n",
    "df_true = df.loc[(df['label'] == 0)]\n",
    "df_fake = df.loc[(df['label'] == 1)]\n",
    "\n",
    "x_fake = df_fake.clean_joined\n",
    "x_true = df_true.clean_joined\n",
    "\n",
    "corpus_fake = corpus(x_fake)\n",
    "corpus_true = corpus(x_true)\n",
    "\n",
    "#Create the relevant phrases from the list of sentences:\n",
    "phrases_fake = Phrases(corpus_fake)\n",
    "phrases_true = Phrases(corpus_true)\n",
    "\n",
    "\n",
    "# The Phraser object is used from now on to transform sentences\n",
    "bigram_fake = Phraser(phrases_fake)\n",
    "bigram_true = Phraser(phrases_true)\n",
    "\n",
    "\n",
    "# Applying the Phraser to transform our sentences is simply\n",
    "all_phrases_fake = list(bigram_train[corpus_fake])\n",
    "all_phrases_true= list(bigram_test[corpus_true])\n",
    "\n",
    "\n",
    "# Fitting Word2Vec\n",
    "embed_dim = 300 \n",
    "\n",
    "nlp_fake = word2vec.Word2Vec(all_phrases_fake, vector_size=embed_dim, window=5, min_count=5, sg=1)\n",
    "nlp_true = word2vec.Word2Vec(all_phrases_true, vector_size=embed_dim, window=5, min_count=5, sg=1)\n",
    "\n",
    "\n",
    "# Listing similar words to 'trump' in fake and real datasets\n",
    "print(nlp_fake.wv.most_similar('trump'))\n",
    "print(nlp_true.wv.most_similar('trump'))"
   ]
  },
  {
   "cell_type": "code",
   "execution_count": 69,
   "metadata": {},
   "outputs": [],
   "source": [
    "#PADDING\n",
    "\n",
    "# Creating sequneces of tokenized words\n",
    "tokenizer = Tokenizer(lower=True, split=' ')\n",
    "tokenizer.fit_on_texts(all_phrases_train )\n",
    "dic_vocabulary = tokenizer.word_index\n",
    "\n",
    "lst_text2seq_train = tokenizer.texts_to_sequences(all_phrases_train)\n",
    "lst_text2seq_test = tokenizer.texts_to_sequences(all_phrases_test)\n",
    "\n",
    "\n",
    "# Adding padding\n",
    "padded_train = pad_sequences(lst_text2seq_train, maxlen=100, padding='post', truncating='post')\n",
    "padded_test = pad_sequences(lst_text2seq_test, maxlen=100, truncating='post')"
   ]
  },
  {
   "cell_type": "code",
   "execution_count": 70,
   "metadata": {},
   "outputs": [
    {
     "name": "stdout",
     "output_type": "stream",
     "text": [
      "The no of words : 56806\n",
      "The no of key-value pairs :  56806\n"
     ]
    }
   ],
   "source": [
    "#PREPARING THE DATA FOR KERAS EMBEDDING LAYER\n",
    "\n",
    "# Creating a dictionary with words in vocab and their embeddings\n",
    "vocab = nlp_train.wv.key_to_index\n",
    "print(\"The no of words :\", len(vocab))\n",
    "vocab = list(nlp_train.wv.key_to_index.keys())\n",
    "             \n",
    "word_vec_dict = {}\n",
    "for word in vocab:\n",
    "    word_vec_dict[word]=nlp_train.wv.get_vector(word)\n",
    "print(\"The no of key-value pairs : \",len(word_vec_dict)) # should come equal to vocab size\n",
    "\n",
    "vocab_size = len(tokenizer.word_index) + 1  # total no of words\n",
    "\n",
    "# Creating the embedding matrix\n",
    "\n",
    "embed_dim = 300\n",
    "embeddings = np.zeros(shape=(vocab_size, embed_dim))\n",
    "\n",
    "for word,i in dic_vocabulary.items():\n",
    "    embed_vector = word_vec_dict.get(word)\n",
    "    if embed_vector is not None:  # word is in the vocabulary learned by the w2v model\n",
    "        embeddings[i]=embed_vector\n",
    "    # if word is not found then embed_vector corressponding to that vector will stay zero.\n"
   ]
  },
  {
   "cell_type": "code",
   "execution_count": 73,
   "metadata": {},
   "outputs": [
    {
     "name": "stdout",
     "output_type": "stream",
     "text": [
      "Model: \"sequential_6\"\n",
      "_________________________________________________________________\n",
      "Layer (type)                 Output Shape              Param #   \n",
      "=================================================================\n",
      "embedding_6 (Embedding)      (None, None, 300)         53258700  \n",
      "_________________________________________________________________\n",
      "bidirectional_6 (Bidirection (None, 200)               320800    \n",
      "_________________________________________________________________\n",
      "dropout_12 (Dropout)         (None, 200)               0         \n",
      "_________________________________________________________________\n",
      "dense_11 (Dense)             (None, 64)                12864     \n",
      "_________________________________________________________________\n",
      "dropout_13 (Dropout)         (None, 64)                0         \n",
      "_________________________________________________________________\n",
      "dense_12 (Dense)             (None, 1)                 65        \n",
      "=================================================================\n",
      "Total params: 53,592,429\n",
      "Trainable params: 333,729\n",
      "Non-trainable params: 53,258,700\n",
      "_________________________________________________________________\n",
      "Epoch 1/2\n",
      "287/287 [==============================] - 222s 620ms/step - loss: 0.3583 - accuracy: 0.8614 - val_loss: 0.3244 - val_accuracy: 0.8791\n",
      "Epoch 2/2\n",
      "287/287 [==============================] - 178s 620ms/step - loss: 0.2921 - accuracy: 0.8953 - val_loss: 0.3082 - val_accuracy: 0.8801\n"
     ]
    }
   ],
   "source": [
    "#BUILDING AND TRAINING MODEL\n",
    "\n",
    "model = Sequential()\n",
    "# takes the sequences as input and the word vectors as weights\n",
    "model.add(Embedding(input_dim=vocab_size, output_dim=embed_dim, mask_zero=False, weights=[embeddings], trainable=False))\n",
    "# helps to prevent overfitting by ignoring randomly selected neurons \n",
    "model.add(Bidirectional(LSTM(100, return_sequences=False))) # 100 memory units (smart neurons)\n",
    "model.add(Dropout(0.2))\n",
    "# fully connected dense layer\n",
    "model.add(Dense(64, activation='relu'))\n",
    "model.add(Dropout(0.3))  \n",
    "model.add(Dense(1, activation='sigmoid'))\n",
    "model.compile(optimizer='adam', loss='binary_crossentropy', metrics=['accuracy'])\n",
    "model.summary()\n",
    "\n",
    "y_train = np.asarray(y_train)\n",
    "\n",
    "#Training the mode\n",
    "training = model.fit(padded_train, y_train, batch_size=64, validation_split=0.1, epochs=2)"
   ]
  },
  {
   "cell_type": "code",
   "execution_count": 74,
   "metadata": {},
   "outputs": [
    {
     "name": "stdout",
     "output_type": "stream",
     "text": [
      "Model accuracy is :  0.8777275407902496\n",
      "              precision    recall  f1-score   support\n",
      "\n",
      "           0       0.88      0.87      0.88      2551\n",
      "           1       0.87      0.88      0.88      2536\n",
      "\n",
      "    accuracy                           0.88      5087\n",
      "   macro avg       0.88      0.88      0.88      5087\n",
      "weighted avg       0.88      0.88      0.88      5087\n",
      "\n"
     ]
    },
    {
     "data": {
      "image/png": "[encoded data removed]",
      "text/plain": [
       "<Figure size 1800x1800 with 2 Axes>"
      ]
     },
     "metadata": {
      "needs_background": "light"
     },
     "output_type": "display_data"
    }
   ],
   "source": [
    "#ASSESING TRAINED MODEL PERFORMANCE\n",
    "\n",
    "pred = model.predict(padded_test)\n",
    "\n",
    "prediction = []\n",
    "# If hte prediction is > 0.5 then the news is real otherwise it is fake\n",
    "for i in range(len(pred)):\n",
    "    if pred[i].item() > 0.5:\n",
    "        prediction.append(1)\n",
    "    else:\n",
    "        prediction.append(0)\n",
    "\n",
    "# Getting accuracy\n",
    "accuracy = accuracy_score(list(y_test), prediction)\n",
    "print(\"Model accuracy is : \", accuracy)\n",
    "print(classification_report(y_test, prediction))\n",
    "\n",
    "# Confusion matrix\n",
    "c_matrix = confusion_matrix(list(y_test), prediction)\n",
    "plt.figure(figsize=(25,25))\n",
    "sns.heatmap(c_matrix, annot=True)\n",
    "plt.show()"
   ]
  },
  {
   "cell_type": "code",
   "execution_count": 87,
   "metadata": {},
   "outputs": [
    {
     "name": "stdout",
     "output_type": "stream",
     "text": [
      "No Skill: ROC AUC=0.500\n",
      "Naive Bayes: ROC AUC=0.939\n"
     ]
    },
    {
     "data": {
      "image/png": "[encoded data removed]",
      "text/plain": [
       "<Figure size 432x288 with 1 Axes>"
      ]
     },
     "metadata": {
      "needs_background": "light"
     },
     "output_type": "display_data"
    }
   ],
   "source": [
    "#ROC-CURVE\n",
    "\n",
    "# Generetong a no skill prediction\n",
    "ns_probs = [0 for _ in range(len(y_test))]\n",
    "\n",
    "# Calculating scores\n",
    "ns_auc = roc_auc_score(y_test, ns_probs)\n",
    "lr_auc = roc_auc_score(y_test, lr_probs)\n",
    "\n",
    "# Summarizing scores\n",
    "print('No Skill: ROC AUC=%.3f' % (ns_auc))\n",
    "print('Naive Bayes: ROC AUC=%.3f' % (lr_auc))\n",
    "\n",
    "# Calculating ROC curves\n",
    "ns_fpr, ns_tpr, _ = roc_curve(y_test, ns_probs)\n",
    "lr_fpr, lr_tpr, _ = roc_curve(y_test, lr_probs)\n",
    "\n",
    "# Plotting ROC curves\n",
    "pyplot.plot(ns_fpr, ns_tpr, marker='.', label='No Skill')\n",
    "pyplot.plot(lr_fpr, lr_tpr, linestyle='--', label='LSTM')\n",
    "\n",
    "#Axis labels\n",
    "pyplot.xlabel('False Positive Rate')\n",
    "pyplot.ylabel('True Positive Rate')\n",
    "\n",
    "# Showing the legend\n",
    "pyplot.legend()\n",
    "\n",
    "#Showing the plot\n",
    "pyplot.show()"
   ]
  }
 ],
 "metadata": {
  "kernelspec": {
   "display_name": "Python 3",
   "language": "python",
   "name": "python3"
  },
  "language_info": {
   "codemirror_mode": {
    "name": "ipython",
    "version": 3
   },
   "file_extension": ".py",
   "mimetype": "text/x-python",
   "name": "python",
   "nbconvert_exporter": "python",
   "pygments_lexer": "ipython3",
   "version": "3.6.8"
  }
 },
 "nbformat": 4,
 "nbformat_minor": 4
}
