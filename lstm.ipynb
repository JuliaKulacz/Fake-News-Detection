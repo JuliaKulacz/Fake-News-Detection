{
 "cells": [
  {
   "cell_type": "code",
   "execution_count": 3,
   "metadata": {},
   "outputs": [],
   "source": [
    "import tensorflow as tf\n",
    "import pandas as pd\n",
    "import numpy as np\n",
    "import nltk\n",
    "import gensim\n",
    "from gensim.models import word2vec\n",
    "import matplotlib.pyplot as plt\n",
    "import seaborn as sns\n",
    "from wordcloud import WordCloud\n",
    "from nltk.corpus import stopwords\n",
    "from nltk import ngrams\n",
    "from sklearn.model_selection import train_test_split\n",
    "from sklearn import feature_extraction, model_selection, manifold\n",
    "from sklearn.metrics import precision_recall_curve, accuracy_score, confusion_matrix, roc_auc_score, classification_report, roc_curve, auc\n",
    "\n",
    "from tensorflow.keras.preprocessing.text import Tokenizer\n",
    "from tensorflow.keras.preprocessing.sequence import pad_sequences\n",
    "from tensorflow.keras.models import Sequential\n",
    "from tensorflow.keras.layers import Dense, Embedding, LSTM, Bidirectional, Dropout"
   ]
  },
  {
   "cell_type": "code",
   "execution_count": 8,
   "metadata": {},
   "outputs": [],
   "source": [
    "#DATA\n",
    "\n",
    "df_fake = pd.read_csv(\"C:/Users/jurus/Documents/AGH/Praca inżynierska/Fake.csv\")\n",
    "df_true = pd.read_csv(\"C:/Users/jurus/Documents/AGH/Praca inżynierska/True.csv\")\n",
    "\n",
    "# Adding a column to indicate whether the news is true or fake\n",
    "df_true['isfake'] = 0\n",
    "df_fake['isfake'] = 1\n",
    "\n",
    "df = pd.concat([df_true, df_fake]).reset_index(drop=True)\n",
    "df.drop(columns=['date'], inplace=True)\n",
    "\n",
    "# Combining 'title' and 'text' colmuns together\n",
    "#df['original'] = df['tweet']\n",
    "df['original'] = df['title'] + ' ' + df['text']\n"
   ]
  },
  {
   "cell_type": "code",
   "execution_count": 23,
   "metadata": {},
   "outputs": [
    {
     "name": "stdout",
     "output_type": "stream",
     "text": [
      "0        budget fight looms republicans flip fiscal scr...\n",
      "1        military accept transgender recruits monday pe...\n",
      "2        senior republican senator mueller special coun...\n",
      "3        russia probe helped australian diplomat trump ...\n",
      "4        trump wants postal service charge amazon shipm...\n",
      "                               ...                        \n",
      "44893    mcpain john mccain furious iran treated sailor...\n",
      "44894    justice yahoo settles mail privacy class actio...\n",
      "44895    sunnistan allied safe zone plan territorial bo...\n",
      "44896    blow million jazeera america finally calls qui...\n",
      "44897    navy sailors held iranian military signs neoco...\n",
      "Name: clean_joined, Length: 44898, dtype: object\n"
     ]
    }
   ],
   "source": [
    "#DATA CLEANING\n",
    "\n",
    "# Obtaining additional stopwords from nltk\n",
    "stop_words = stopwords.words('english')\n",
    "stop_words.extend(['washington', 'reuters'])\n",
    "\n",
    "# Removing stopwords and words with 2 or less characters\n",
    "def preprocess(text):\n",
    "    result = []\n",
    "    for token in gensim.utils.simple_preprocess(text):\n",
    "        # Taking words that don't belong to stopwords and have more than 2 characters\n",
    "        if token not in gensim.parsing.preprocessing.STOPWORDS and len(token) > 3 and token not in stop_words:\n",
    "            result.append(token)\n",
    "\n",
    "    return result\n",
    "\n",
    "df['clean'] = df['original'].apply(preprocess)\n",
    "\n",
    "# All unique words present in dataset in one string\n",
    "df['clean_joined'] = df['clean'].apply(lambda x: \" \".join(x))\n",
    "print(df['clean_joined'])"
   ]
  },
  {
   "cell_type": "code",
   "execution_count": 24,
   "metadata": {},
   "outputs": [
    {
     "name": "stdout",
     "output_type": "stream",
     "text": [
      "[('donald', 0.7635288238525391), ('bails', 0.7007672190666199), ('flirted', 0.6927379369735718), ('scold', 0.680018961429596), ('yuuge', 0.6661972999572754), ('assailing', 0.6654286980628967), ('hesitance', 0.6652796864509583), ('contretemps', 0.6635866165161133), ('catty', 0.6578384041786194), ('rubiopresident', 0.6569938063621521)]\n"
     ]
    }
   ],
   "source": [
    "#WORD2VEC\n",
    "\n",
    "# Target class is 'isfake'\n",
    "x_train, x_test, y_train, y_test = train_test_split(df.clean_joined, df.isfake, test_size=0.2)\n",
    "\n",
    "# Creating list of lists of unigrams - training corpus\n",
    "corpus_train = x_train\n",
    "lst_coprus_train = []\n",
    "for string in corpus_train:\n",
    "    lst_words = string.split()\n",
    "    lst_grams = [\" \".join(lst_words[i:i+1]) for i in range(0, len(lst_words), 1)]\n",
    "    lst_coprus_train.append(lst_grams)\n",
    "\n",
    "# Fitting Word2Vec\n",
    "nlp = word2vec.Word2Vec(lst_coprus_train, vector_size=300, window=8, min_count=1, sg=1)\n",
    "\n",
    "# Listing similar words to 'trump'\n",
    "print(nlp.wv.most_similar('trump'))\n",
    "\n",
    "# Creating list of lists of unigrams - testing corpus\n",
    "corpus_test = x_test\n",
    "lst_coprus_test = []\n",
    "for string in corpus_test:\n",
    "    lst_words = string.split()\n",
    "    lst_grams = [\" \".join(lst_words[i:i+1]) for i in range(0, len(lst_words), 1)]\n",
    "    lst_coprus_test.append(lst_grams)\n"
   ]
  },
  {
   "cell_type": "code",
   "execution_count": 26,
   "metadata": {},
   "outputs": [
    {
     "name": "stdout",
     "output_type": "stream",
     "text": [
      "budget fight looms republicans flip fiscal script head conservative republican faction congress voted month huge expansion national debt cuts called fiscal conservative sunday urged budget restraint keeping sharp pivot republicans representative mark meadows speaking face nation drew hard line federal spending lawmakers bracing battle january return holidays wednesday lawmakers begin trying pass federal budget fight likely linked issues immigration policy november congressional election campaigns approach republicans seek control congress president donald trump republicans want budget increase military spending democrats want proportional increases defense discretionary spending programs support education scientific research infrastructure public health environmental protection trump administration willing going increase defense discretionary spending percent meadows chairman small influential house freedom caucus said program democrats saying need government raise percent fiscal conservative rationale eventually people money said meadows republicans voted late december party debt financed overhaul expected balloon federal budget deficit trillion years trillion national debt interesting hear mark talk fiscal responsibility democratic representative joseph crowley said crowley said republican require united states borrow trillion paid future generations finance cuts corporations rich fiscally responsible bills seen passed history house representatives think going paying years come crowley said republicans insist package biggest overhaul years boost economy growth house speaker paul ryan supported recently went meadows making clear radio interview welfare entitlement reform party calls republican priority republican parlance entitlement programs mean food stamps housing assistance medicare medicaid health insurance elderly poor disabled programs created assist needy democrats seized ryan early december remarks saying showed republicans overhaul seeking spending cuts social programs goals house republicans seat senate votes democrats needed approve budget prevent government shutdown democrats leverage senate republicans narrowly control defend discretionary defense programs social spending tackling issue dreamers people brought illegally country children trump september march expiration date deferred action childhood arrivals daca program protects young immigrants deportation provides work permits president said recent twitter messages wants funding proposed mexican border wall immigration changes exchange agreeing help dreamers representative debbie dingell told favor linking issue policy objectives wall funding need daca clean said wednesday trump aides meet congressional leaders discuss issues followed weekend strategy sessions trump republican leaders white house said trump scheduled meet sunday florida republican governor rick scott wants emergency house passed billion package hurricanes florida texas puerto rico wildfires california package exceeded billion requested trump administration senate voted\n"
     ]
    }
   ],
   "source": [
    "print(df.clean_joined[0])"
   ]
  },
  {
   "cell_type": "code",
   "execution_count": 25,
   "metadata": {},
   "outputs": [],
   "source": [
    "#TOKENIZATION AND PADDING\n",
    "\n",
    "# Tokenizing words and creating sequneces of tokenized words\n",
    "tokenizer = Tokenizer(lower=True, split=' ', filters='!\"#$%&()*+,-./:;<=>?@[\\\\]^_`{|}~\\t\\n')\n",
    "tokenizer.fit_on_texts(lst_coprus_train)\n",
    "dic_vocabulary = tokenizer.word_index\n",
    "\n",
    "lst_text2seq_train = tokenizer.texts_to_sequences(lst_coprus_train)\n",
    "lst_text2seq_test = tokenizer.texts_to_sequences(lst_coprus_test)\n",
    "\n",
    "\n",
    "# Adding padding\n",
    "padded_train = pad_sequences(lst_text2seq_train, maxlen=40, padding='post', truncating='post')\n",
    "padded_test = pad_sequences(lst_text2seq_test, maxlen=40, truncating='post')\n",
    "\n",
    "\n",
    "# Starting the embedding matrix\n",
    "embeddings = np.zeros((len(dic_vocabulary)+1, 300))\n",
    "\n",
    "for word, idx in dic_vocabulary.items():\n",
    "    # Update the row with vector\n",
    "    try:\n",
    "        embeddings[idx] = nlp.wv[word]\n",
    "    # If word not in model skip and row stays all 0s\n",
    "    except:\n",
    "        pass"
   ]
  },
  {
   "cell_type": "code",
   "execution_count": 27,
   "metadata": {},
   "outputs": [
    {
     "name": "stdout",
     "output_type": "stream",
     "text": [
      "from:  budget fight looms republicans flip fiscal script head conservative republican faction congress voted month huge expansion national debt cuts called fiscal conservative sunday urged budget restraint keeping sharp pivot republicans representative mark meadows speaking face nation drew hard line federal spending lawmakers bracing battle january return holidays wednesday lawmakers begin trying pass federal budget fight likely linked issues immigration policy november congressional election campaigns approach republicans seek control congress president donald trump republicans want budget increase military spending democrats want proportional increases defense discretionary spending programs support education scientific research infrastructure public health environmental protection trump administration willing going increase defense discretionary spending percent meadows chairman small influential house freedom caucus said program democrats saying need government raise percent fiscal conservative rationale eventually people money said meadows republicans voted late december party debt financed overhaul expected balloon federal budget deficit trillion years trillion national debt interesting hear mark talk fiscal responsibility democratic representative joseph crowley said crowley said republican require united states borrow trillion paid future generations finance cuts corporations rich fiscally responsible bills seen passed history house representatives think going paying years come crowley said republicans insist package biggest overhaul years boost economy growth house speaker paul ryan supported recently went meadows making clear radio interview welfare entitlement reform party calls republican priority republican parlance entitlement programs mean food stamps housing assistance medicare medicaid health insurance elderly poor disabled programs created assist needy democrats seized ryan early december remarks saying showed republicans overhaul seeking spending cuts social programs goals house republicans seat senate votes democrats needed approve budget prevent government shutdown democrats leverage senate republicans narrowly control defend discretionary defense programs social spending tackling issue dreamers people brought illegally country children trump september march expiration date deferred action childhood arrivals daca program protects young immigrants deportation provides work permits president said recent twitter messages wants funding proposed mexican border wall immigration changes exchange agreeing help dreamers representative debbie dingell told favor linking issue policy objectives wall funding need daca clean said wednesday trump aides meet congressional leaders discuss issues followed weekend strategy sessions trump republican leaders white house said trump scheduled meet sunday florida republican governor rick scott wants emergency house passed billion package hurricanes florida texas puerto rico wildfires california package exceeded billion requested trump administration senate voted | len: 380\n",
      "to:  [    1  1689  1483 19102  3408   695   252     3   547     9     1   298\n",
      "  1112  1483  2194 19102   691   695   556     1   774   243    15    77\n",
      "   695 14081    20   343   131     1   589  2431   779 19102   141    43\n",
      "  4763   774   243   556] | len: 40\n",
      "check:  budget  -- idx in vocabulary --> 294\n",
      "vocabulary:  {'trump': 1, 'said': 2, 'president': 3, 'people': 4, 'state': 5} ... (padding element, 0)\n"
     ]
    }
   ],
   "source": [
    "#SHOWING HOW A TEXT FROM DF IS TRANSFORMED INTO A SEQ WITH PADDING\n",
    "\n",
    "i = 0\n",
    "\n",
    "## list of text\n",
    "len_txt = len(df[\"clean_joined\"].iloc[i].split())\n",
    "print(\"from: \", df[\"clean_joined\"].iloc[i], \"| len:\", len_txt)\n",
    "\n",
    "## sequence of token ids\n",
    "len_tokens = len(padded_train[i])\n",
    "print(\"to: \", padded_train[i], \"| len:\", len(padded_train[i]))\n",
    "\n",
    "## vocabulary\n",
    "print(\"check: \", df[\"clean_joined\"].iloc[i].split()[0], \" -- idx in vocabulary -->\", dic_vocabulary[df[\"clean_joined\"].iloc[i].split()[0]])\n",
    "print(\"vocabulary: \", dict(list(dic_vocabulary.items())[0:5]), \"... (padding element, 0)\")"
   ]
  },
  {
   "cell_type": "code",
   "execution_count": 28,
   "metadata": {},
   "outputs": [
    {
     "name": "stdout",
     "output_type": "stream",
     "text": [
      "Model: \"sequential_1\"\n",
      "_________________________________________________________________\n",
      "Layer (type)                 Output Shape              Param #   \n",
      "=================================================================\n",
      "embedding_1 (Embedding)      (None, None, 300)         29867400  \n",
      "_________________________________________________________________\n",
      "dropout_2 (Dropout)          (None, None, 300)         0         \n",
      "_________________________________________________________________\n",
      "bidirectional_1 (Bidirection (None, 200)               320800    \n",
      "_________________________________________________________________\n",
      "dropout_3 (Dropout)          (None, 200)               0         \n",
      "_________________________________________________________________\n",
      "dense_1 (Dense)              (None, 1)                 201       \n",
      "=================================================================\n",
      "Total params: 30,188,401\n",
      "Trainable params: 30,188,401\n",
      "Non-trainable params: 0\n",
      "_________________________________________________________________\n",
      "Epoch 1/2\n",
      "393/393 [==============================] - 268s 664ms/step - loss: 0.1032 - accuracy: 0.9615 - val_loss: 0.0641 - val_accuracy: 0.9775\n",
      "Epoch 2/2\n",
      "393/393 [==============================] - 236s 601ms/step - loss: 0.0241 - accuracy: 0.9918 - val_loss: 0.0461 - val_accuracy: 0.9822\n"
     ]
    }
   ],
   "source": [
    "#BUILDING AND TRAINING MODEL\n",
    "\n",
    "model = Sequential()\n",
    "# takes the sequences as input and the word vectors as weightstakes the sequences as input and the word vectors as weights\n",
    "model.add(Embedding(input_dim=embeddings.shape[0], output_dim=embeddings.shape[1], weights=[embeddings]))\n",
    "model.add(Dropout(0.2))\n",
    "model.add(Bidirectional(LSTM(100))) # 100 memory units (smart neurons)\n",
    "model.add(Dropout(0.2))\n",
    "model.add(Dense(1, activation='sigmoid'))\n",
    "model.compile(optimizer='adam', loss='binary_crossentropy', metrics=['accuracy'])\n",
    "model.summary()\n",
    "\n",
    "y_train = np.asarray(y_train)\n",
    "\n",
    "#Training the model\n",
    "training = model.fit(padded_train, y_train, batch_size=64, validation_split=0.3, epochs=2)"
   ]
  },
  {
   "cell_type": "code",
   "execution_count": 29,
   "metadata": {},
   "outputs": [
    {
     "data": {
      "image/png": "[encoded data removed]",
      "text/plain": [
       "<Figure size 432x288 with 4 Axes>"
      ]
     },
     "metadata": {
      "needs_background": "light"
     },
     "output_type": "display_data"
    },
    {
     "name": "stdout",
     "output_type": "stream",
     "text": [
      "Model accuracy is :  0.9829621380846325\n",
      "              precision    recall  f1-score   support\n",
      "\n",
      "           0       0.98      0.99      0.98      4262\n",
      "           1       0.99      0.98      0.98      4718\n",
      "\n",
      "    accuracy                           0.98      8980\n",
      "   macro avg       0.98      0.98      0.98      8980\n",
      "weighted avg       0.98      0.98      0.98      8980\n",
      "\n"
     ]
    },
    {
     "data": {
      "image/png": "[encoded data removed]",
      "text/plain": [
       "<Figure size 1800x1800 with 2 Axes>"
      ]
     },
     "metadata": {
      "needs_background": "light"
     },
     "output_type": "display_data"
    }
   ],
   "source": [
    "#ASSESING TRAINED MODEL PERFORMANCE\n",
    "\n",
    "## plot loss and accuracy\n",
    "metrics = [k for k in training.history.keys() if (\"loss\" not in k) and (\"val\" not in k)]\n",
    "fig, ax = plt.subplots(nrows=1, ncols=2)\n",
    "ax[0].set(title=\"Training\")\n",
    "ax11 = ax[0].twinx()\n",
    "ax[0].plot(training.history['loss'], color='black')\n",
    "ax[0].set_xlabel('Epochs')\n",
    "ax[0].set_ylabel('Loss', color='black')\n",
    "for metric in metrics:\n",
    "    ax11.plot(training.history[metric], label=metric)\n",
    "ax11.set_ylabel(\"Score\", color='steelblue')\n",
    "ax11.legend()\n",
    "ax[1].set(title=\"Validation\")\n",
    "ax22 = ax[1].twinx()\n",
    "ax[1].plot(training.history['val_loss'], color='black')\n",
    "ax[1].set_xlabel('Epochs')\n",
    "ax[1].set_ylabel('Loss', color='black')\n",
    "for metric in metrics:\n",
    "     ax22.plot(training.history['val_'+metric], label=metric)\n",
    "ax22.set_ylabel(\"Score\", color=\"steelblue\")\n",
    "plt.show()\n",
    "\n",
    "## Plot confusion matrix\n",
    "\n",
    "pred = model.predict(padded_test)\n",
    "\n",
    "prediction = []\n",
    "# If hte prediction is > 0.5 then the news is real otherwise it is fake\n",
    "for i in range(len(pred)):\n",
    "    if pred[i].item() > 0.5:\n",
    "        prediction.append(1)\n",
    "    else:\n",
    "        prediction.append(0)\n",
    "\n",
    "# Getting accuracy\n",
    "accuracy = accuracy_score(list(y_test), prediction)\n",
    "print(\"Model accuracy is : \", accuracy)\n",
    "print(classification_report(y_test, prediction))\n",
    "\n",
    "# Confusion matrix\n",
    "c_matrix = confusion_matrix(list(y_test), prediction)\n",
    "plt.figure(figsize=(25,25))\n",
    "sns.heatmap(c_matrix, annot=True)\n",
    "plt.show()"
   ]
  },
  {
   "cell_type": "code",
   "execution_count": null,
   "metadata": {},
   "outputs": [],
   "source": []
  }
 ],
 "metadata": {
  "kernelspec": {
   "display_name": "Python 3",
   "language": "python",
   "name": "python3"
  },
  "language_info": {
   "codemirror_mode": {
    "name": "ipython",
    "version": 3
   },
   "file_extension": ".py",
   "mimetype": "text/x-python",
   "name": "python",
   "nbconvert_exporter": "python",
   "pygments_lexer": "ipython3",
   "version": "3.6.8"
  }
 },
 "nbformat": 4,
 "nbformat_minor": 4
}
