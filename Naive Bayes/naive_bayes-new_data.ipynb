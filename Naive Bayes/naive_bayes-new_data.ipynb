{
 "cells": [
  {
   "cell_type": "code",
   "execution_count": 1,
   "metadata": {},
   "outputs": [
    {
     "name": "stderr",
     "output_type": "stream",
     "text": [
      "WARNING: You are using pip version 21.2.4; however, version 21.3.1 is available.\n",
      "You should consider upgrading via the 'c:\\users\\jurus\\desktop\\machine learing lab auta\\python.exe -m pip install --upgrade pip' command.\n"
     ]
    },
    {
     "name": "stdout",
     "output_type": "stream",
     "text": [
      "Requirement already satisfied: imblearn in c:\\users\\jurus\\desktop\\machine learing lab auta\\lib\\site-packages (0.0)\n",
      "Requirement already satisfied: imbalanced-learn in c:\\users\\jurus\\desktop\\machine learing lab auta\\lib\\site-packages (from imblearn) (0.8.1)\n",
      "Requirement already satisfied: scipy>=0.19.1 in c:\\users\\jurus\\desktop\\machine learing lab auta\\lib\\site-packages (from imbalanced-learn->imblearn) (1.4.1)\n",
      "Requirement already satisfied: numpy>=1.13.3 in c:\\users\\jurus\\appdata\\roaming\\python\\python36\\site-packages (from imbalanced-learn->imblearn) (1.19.5)\n",
      "Requirement already satisfied: joblib>=0.11 in c:\\users\\jurus\\desktop\\machine learing lab auta\\lib\\site-packages (from imbalanced-learn->imblearn) (1.0.1)\n",
      "Requirement already satisfied: scikit-learn>=0.24 in c:\\users\\jurus\\desktop\\machine learing lab auta\\lib\\site-packages (from imbalanced-learn->imblearn) (0.24.2)\n",
      "Requirement already satisfied: threadpoolctl>=2.0.0 in c:\\users\\jurus\\desktop\\machine learing lab auta\\lib\\site-packages (from scikit-learn>=0.24->imbalanced-learn->imblearn) (2.1.0)\n"
     ]
    }
   ],
   "source": [
    "import re\n",
    "!pip install imblearn\n",
    "from sklearn.utils.class_weight import compute_class_weight\n",
    "from sklearn.feature_extraction.text import TfidfTransformer\n",
    "from imblearn.over_sampling import SMOTE\n",
    "from imblearn.under_sampling import RandomUnderSampler\n",
    "from imblearn.pipeline import Pipeline"
   ]
  },
  {
   "cell_type": "code",
   "execution_count": 2,
   "metadata": {},
   "outputs": [
    {
     "name": "stderr",
     "output_type": "stream",
     "text": [
      "c:\\users\\jurus\\desktop\\machine learing lab auta\\lib\\site-packages\\gensim\\similarities\\__init__.py:15: UserWarning: The gensim.similarities.levenshtein submodule is disabled, because the optional Levenshtein package <https://pypi.org/project/python-Levenshtein/> is unavailable. Install Levenhstein (e.g. `pip install python-Levenshtein`) to suppress this warning.\n",
      "  warnings.warn(msg)\n"
     ]
    }
   ],
   "source": [
    "import tensorflow as tf\n",
    "import pandas as pd\n",
    "import numpy as np\n",
    "import nltk\n",
    "import html\n",
    "import gensim\n",
    "from gensim.models import word2vec\n",
    "import matplotlib.pyplot as plt\n",
    "import seaborn as sns\n",
    "from wordcloud import WordCloud\n",
    "from nltk.corpus import stopwords\n",
    "from nltk import ngrams\n",
    "from nltk.corpus import wordnet as wn\n",
    "from nltk.stem.wordnet import WordNetLemmatizer\n",
    "from collections import defaultdict\n",
    "\n",
    "from sklearn.model_selection import train_test_split\n",
    "from sklearn import feature_extraction, model_selection, manifold\n",
    "from sklearn.metrics import precision_recall_curve, accuracy_score, confusion_matrix, roc_auc_score, classification_report, roc_curve, auc\n",
    "\n",
    "from tensorflow.keras.preprocessing.text import Tokenizer\n",
    "from tensorflow.keras.preprocessing.sequence import pad_sequences\n",
    "from tensorflow.keras.models import Sequential"
   ]
  },
  {
   "cell_type": "code",
   "execution_count": 3,
   "metadata": {},
   "outputs": [
    {
     "name": "stderr",
     "output_type": "stream",
     "text": [
      "[nltk_data] Downloading package wordnet to\n",
      "[nltk_data]     C:\\Users\\jurus\\AppData\\Roaming\\nltk_data...\n",
      "[nltk_data]   Package wordnet is already up-to-date!\n",
      "[nltk_data] Downloading package averaged_perceptron_tagger to\n",
      "[nltk_data]     C:\\Users\\jurus\\AppData\\Roaming\\nltk_data...\n",
      "[nltk_data]   Package averaged_perceptron_tagger is already up-to-\n",
      "[nltk_data]       date!\n"
     ]
    },
    {
     "data": {
      "text/plain": [
       "True"
      ]
     },
     "execution_count": 3,
     "metadata": {},
     "output_type": "execute_result"
    }
   ],
   "source": [
    "nltk.download('wordnet')\n",
    "nltk.download('averaged_perceptron_tagger')"
   ]
  },
  {
   "cell_type": "code",
   "execution_count": 4,
   "metadata": {},
   "outputs": [],
   "source": [
    "#DATA\n",
    "\n",
    "df_train = pd.read_csv(\"C:/Users/jurus/Documents/AGH/Praca inżynierska/data_2/train.csv\")\n",
    "df_test = pd.read_csv(\"C:/Users/jurus/Documents/AGH/Praca inżynierska/data_2/test.csv\")\n",
    "df_labels = pd.read_csv(\"C:/Users/jurus/Documents/AGH/Praca inżynierska/data_2/submit.csv\")\n",
    "\n",
    "df_test['label'] = df_labels['label']\n",
    "\n",
    "df = pd.concat([df_train, df_test]).reset_index(drop=True)\n",
    "\n",
    "df.drop(columns=['author'], inplace=True)\n",
    "\n",
    "# Combining 'title' and 'text' colmuns together\n",
    "df['original'] = df['title'] + ' ' + df['text']"
   ]
  },
  {
   "cell_type": "code",
   "execution_count": 5,
   "metadata": {},
   "outputs": [],
   "source": [
    "# Shuffling data\n",
    "df = df.sample(frac=1)\n",
    "# Dropping duplicates & NaN rows\n",
    "df.drop_duplicates(subset=['text'], inplace=True)\n",
    "df.dropna(subset = [\"text\"], inplace=True)\n",
    "df.dropna(subset = [\"title\"], inplace=True)"
   ]
  },
  {
   "cell_type": "code",
   "execution_count": 6,
   "metadata": {
    "scrolled": true
   },
   "outputs": [
    {
     "name": "stdout",
     "output_type": "stream",
     "text": [
      "12102\n",
      "12700\n"
     ]
    }
   ],
   "source": [
    "print(df[df.label == 1].shape[0])\n",
    "print(df[df.label == 0].shape[0])"
   ]
  },
  {
   "cell_type": "code",
   "execution_count": 7,
   "metadata": {},
   "outputs": [],
   "source": [
    "#DATA CLEANING\n",
    "\n",
    "# Obtaining additional stopwords from nltk\n",
    "stop_words = stopwords.words('english')\n",
    "\n",
    "def cleaning(text):\n",
    "    clean = re.sub('<.*?>', ' ', str(text))         \n",
    "#removes HTML tags\n",
    "    clean = re.sub('\\'.*?\\s',' ', clean)               \n",
    "#removes all hanging letters afer apostrophes (s in it's)\n",
    "    clean = re.sub(r'http\\S+',' ', clean)              \n",
    "#removes URLs\n",
    "    clean = re.sub('\\W+',' ', clean)                   \n",
    "#replacing the non alphanumeric characters\n",
    "    return html.unescape(clean)\n",
    "df['cleaned'] = df['original'].apply(cleaning)\n",
    "\n",
    "\n",
    "def stopwords(text):\n",
    "    result = []\n",
    "    for token in gensim.utils.simple_preprocess(text):\n",
    "        # Taking words that don't belong to stopwords and have more than 2 characters\n",
    "        if token not in gensim.parsing.preprocessing.STOPWORDS and len(token) > 3 and token not in stop_words:\n",
    "            result.append(token)\n",
    "\n",
    "    return result\n",
    "df['nostopwords'] = df['cleaned'].apply(stopwords)"
   ]
  },
  {
   "cell_type": "code",
   "execution_count": 8,
   "metadata": {},
   "outputs": [],
   "source": [
    "# Lemmatizing\n",
    "wnl = WordNetLemmatizer()\n",
    "df['clean_lemm'] = df['nostopwords'].apply(lambda x: [wnl.lemmatize(word, pos=\"v\") for word in x])\n",
    "df['clean_lemm'] = df['clean_lemm'].apply(lambda x: [wnl.lemmatize(word, pos=\"a\") for word in x])\n",
    "df['clean_lemm'] = df['clean_lemm'].apply(lambda x: [wnl.lemmatize(word, pos=\"n\") for word in x])"
   ]
  },
  {
   "cell_type": "code",
   "execution_count": 9,
   "metadata": {},
   "outputs": [
    {
     "name": "stdout",
     "output_type": "stream",
     "text": [
      "3149     family terror victim urge fifa palestinian soc...\n",
      "9758     fidel castro cuban revolutionary defy die york...\n",
      "4537     asuntos internos investigará policía tonta esp...\n",
      "5888     china machado breakthrough model die york time...\n",
      "9092     actress mayim bialik contradict anti israel ac...\n",
      "                               ...                        \n",
      "23928    canada immigration crisis american leftist pos...\n",
      "16948    great comet party go broadway dish pierogies j...\n",
      "973      oroville state federal government share blame ...\n",
      "1374     europa league matchday zenit rule zenit dundal...\n",
      "5150     critique hillary clinton ready attack york tim...\n",
      "Name: clean_joined, Length: 24802, dtype: object\n"
     ]
    }
   ],
   "source": [
    "# All unique words present in dataset in one string\n",
    "df['clean_joined'] = df['clean_lemm'].apply(lambda x: \" \".join(x))\n",
    "print(df['clean_joined'])"
   ]
  },
  {
   "cell_type": "code",
   "execution_count": 10,
   "metadata": {},
   "outputs": [],
   "source": [
    "#COUNT VECTORIZER - counts  the occurrence of each word for every single text in order to create a vector\n",
    "\n",
    "from sklearn.feature_extraction.text import CountVectorizer\n",
    "\n",
    "X_train, X_test, y_train, y_test = train_test_split(df.clean_joined, df.label, test_size=0.2)\n",
    "\n",
    "#vectorizer = CountVectorizer(ngram_range=(1,2))\n",
    "vectorizer = CountVectorizer(min_df=5, max_df=5000)\n",
    "vectorizer.fit(df['clean_joined'])\n",
    "# Transforming training and validation data using count vectorizer object\n",
    "X_train_count = vectorizer.transform(X_train.values)\n",
    "X_test_count = vectorizer.transform(X_test.values)\n"
   ]
  },
  {
   "cell_type": "code",
   "execution_count": 12,
   "metadata": {},
   "outputs": [
    {
     "name": "stdout",
     "output_type": "stream",
     "text": [
      "Model accuracy is :  0.816569240072566\n",
      "              precision    recall  f1-score   support\n",
      "\n",
      "           0       0.79      0.87      0.83      2559\n",
      "           1       0.85      0.75      0.80      2402\n",
      "\n",
      "    accuracy                           0.82      4961\n",
      "   macro avg       0.82      0.81      0.82      4961\n",
      "weighted avg       0.82      0.82      0.82      4961\n",
      "\n"
     ]
    },
    {
     "data": {
      "image/png": "[encoded data removed]",
      "text/plain": [
       "<Figure size 1800x1800 with 2 Axes>"
      ]
     },
     "metadata": {
      "needs_background": "light"
     },
     "output_type": "display_data"
    }
   ],
   "source": [
    "# NAIVE BAYES CLASSIFIER\n",
    "\n",
    "from sklearn import naive_bayes\n",
    "\n",
    "model = naive_bayes.MultinomialNB()\n",
    "model.fit(X_train_count, y_train)\n",
    "\n",
    "## Plot confusion matrix\n",
    "\n",
    "pred = model.predict(X_test_count)\n",
    "\n",
    "prediction = []\n",
    "# If hte prediction is > 0.5 then the news is real otherwise it is fake\n",
    "for i in range(len(pred)):\n",
    "    if pred[i].item() > 0.5:\n",
    "        prediction.append(1)\n",
    "    else:\n",
    "        prediction.append(0)\n",
    "\n",
    "# Getting accuracy\n",
    "accuracy = accuracy_score(list(y_test), prediction)\n",
    "print(\"Model accuracy is : \", accuracy)\n",
    "print(classification_report(y_test, prediction))\n",
    "\n",
    "# Confusion matrix\n",
    "c_matrix = confusion_matrix(list(y_test), prediction)\n",
    "plt.figure(figsize=(25,25))\n",
    "sns.heatmap(c_matrix, annot=True)\n",
    "plt.show()"
   ]
  },
  {
   "cell_type": "code",
   "execution_count": null,
   "metadata": {},
   "outputs": [],
   "source": [
    "# Frequency of the words in a vectorizer\n",
    "sum_words = X_train_count.sum(axis=0)\n",
    "words_freq = [(word, sum_words[0, idx]) for word, idx in vectorizer.vocabulary_.items()]\n",
    "words_freq =sorted(words_freq, key = lambda x: x[1], reverse=True)"
   ]
  },
  {
   "cell_type": "code",
   "execution_count": null,
   "metadata": {},
   "outputs": [],
   "source": [
    "words_freq"
   ]
  },
  {
   "cell_type": "code",
   "execution_count": 13,
   "metadata": {},
   "outputs": [
    {
     "name": "stdout",
     "output_type": "stream",
     "text": [
      "['company' 'republican' 'percent' 'police' 'vote' 'attack' 'school'\n",
      " 'court' 'administration' 'child' 'breitbart' 'security' 'play' 'federal'\n",
      " 'leader' 'office' 'department' 'team' 'order' 'build' 'russia' 'democrat'\n",
      " 'business' 'kill' 'executive' 'health' 'statement' 'meet' 'university'\n",
      " 'officer' 'interview' 'rule' 'deal' 'russian' 'black' 'game' 'military'\n",
      " 'chief' 'program' 'night' 'china' 'email' 'money' 'hear' 'little'\n",
      " 'general' 'fight' 'service' 'feel' 'offer' 'director' 'story' 'lose'\n",
      " 'care' 'center' 'voter' 'decision' 'young' 'remain' 'student' 'shoot'\n",
      " 'spend' 'release' 'effort' 'problem' 'agency' 'stand' 'north'\n",
      " 'presidential' 'provide' 'charge' 'record' 'friend' 'control' 'line'\n",
      " 'head' 'judge' 'grow' 'create' 'note' 'street' 'foreign' 'friday'\n",
      " 'market' 'best' 'study' 'get' 'book' 'justice' 'small' 'stop' 'social'\n",
      " 'investigation' 'view' 'base' 'democratic' 'clear' 'sign' 'concern'\n",
      " 'community' 'area' 'send' 'away' 'receive' 'past' 'increase' 'return'\n",
      " 'death' 'major' 'information' 'result' 'hour' 'today' 'thursday'\n",
      " 'immigration' 'candidate' 'second' 'secretary' 'serve' 'senator' 'video'\n",
      " 'real' 'international' 'different' 'history' 'expect' 'action' 'fund'\n",
      " 'kind' 'raise' 'bank' 'move' 'committee' 'tuesday' 'event' 'hard'\n",
      " 'consider' 'watch' 'hand' 'monday' 'conservative' 'suggest' 'islamic'\n",
      " 'matter' 'south' 'organization' 'word' 'syria' 'trade' 'sunday' 'local'\n",
      " 'break' 'wednesday' 'seek' 'love' 'worker' 'wall' 'rise' 'comment'\n",
      " 'speech' 'press' 'free' 'senate' 'role' 'read' 'human' 'drug' 'authority'\n",
      " 'john' 'decade' 'person' 'european' 'cause' 'water' 'billion' 'likely'\n",
      " 'idea' 'reach' 'intelligence' 'muslim' 'economic' 'nearly' 'brief'\n",
      " 'important' 'border' 'california' 'facebook' 'describe' 'focus' 'process'\n",
      " 'congress' 'announce' 'union' 'morning' 'pas' 'lawyer' 'involve'\n",
      " 'outside' 'reason' 'list']\n"
     ]
    }
   ],
   "source": [
    "neg_class_prob_sorted = model.feature_log_prob_[0, :].argsort()[::-1]\n",
    "\n",
    "print(np.take(vectorizer.get_feature_names(), neg_class_prob_sorted[:200]))"
   ]
  },
  {
   "cell_type": "code",
   "execution_count": 14,
   "metadata": {},
   "outputs": [
    {
     "name": "stdout",
     "output_type": "stream",
     "text": [
      "['vote' 'email' 'russia' 'russian' 'military' 'police' 'republican'\n",
      " 'attack' 'october' 'child' 'video' 'syria' 'control' 'money' 'black'\n",
      " 'order' 'source' 'investigation' 'november' 'article' 'today'\n",
      " 'presidential' 'voter' 'comment' 'candidate' 'result' 'information'\n",
      " 'free' 'federal' 'water' 'create' 'stand' 'foreign' 'human' 'percent'\n",
      " 'real' 'security' 'base' 'story' 'problem' 'kill' 'fight' 'cause'\n",
      " 'democratic' 'break' 'department' 'bank' 'read' 'democrat' 'health'\n",
      " 'stop' 'send' 'release' 'get' 'lose' 'company' 'history' 'anti' 'note'\n",
      " 'reason' 'hand' 'rule' 'matter' 'comey' 'build' 'actually' 'office'\n",
      " 'word' 'general' 'poll' 'leader' 'action' 'provide' 'john' 'feel' 'food'\n",
      " 'deal' 'social' 'area' 'market' 'increase' 'head' 'china' 'global'\n",
      " 'court' 'school' 'evidence' 'clear' 'line' 'little' 'best' 'watch'\n",
      " 'important' 'away' 'play' 'course' 'hear' 'understand' 'economic'\n",
      " 'secretary' 'justice' 'business' 'crime' 'israel' 'foundation'\n",
      " 'administration' 'syrian' 'international' 'study' 'service' 'north'\n",
      " 'love' 'view' 'level' 'elect' 'sign' 'record' 'nuclear' 'director'\n",
      " 'likely' 'major' 'concern' 'event' 'consider' 'body' 'press' 'person'\n",
      " 'explain' 'publish' 'fund' 'death' 'meet' 'street' 'facebook' 'officer'\n",
      " 'interest' 'wikileaks' 'receive' 'muslim' 'supporter' 'private' 'book'\n",
      " 'putin' 'past' 'term' 'charge' 'second' 'gold' 'attempt' 'mind'\n",
      " 'community' 'remain' 'different' 'statement' 'effort' 'reveal' 'spend'\n",
      " 'terrorist' 'future' 'weapon' 'truth' 'idea' 'protest' 'grow' 'dollar'\n",
      " 'possible' 'care' 'program' 'small' 'western' 'process' 'land' 'learn'\n",
      " 'congress' 'hard' 'fail' 'serve' 'wall' 'position' 'shoot' 'threat'\n",
      " 'decision' 'podesta' 'able' 'instead' 'protect' 'agency' 'economy'\n",
      " 'involve' 'interview' 'trade' 'arm' 'class' 'organization' 'rise'\n",
      " 'example' 'saudi' 'project' 'east' 'criminal']\n"
     ]
    }
   ],
   "source": [
    "pos_class_prob_sorted = model.feature_log_prob_[1, :].argsort()[::-1]\n",
    "print(np.take(vectorizer.get_feature_names(), pos_class_prob_sorted[:200]))"
   ]
  },
  {
   "cell_type": "code",
   "execution_count": null,
   "metadata": {},
   "outputs": [],
   "source": []
  }
 ],
 "metadata": {
  "kernelspec": {
   "display_name": "Python 3",
   "language": "python",
   "name": "python3"
  },
  "language_info": {
   "codemirror_mode": {
    "name": "ipython",
    "version": 3
   },
   "file_extension": ".py",
   "mimetype": "text/x-python",
   "name": "python",
   "nbconvert_exporter": "python",
   "pygments_lexer": "ipython3",
   "version": "3.6.8"
  }
 },
 "nbformat": 4,
 "nbformat_minor": 4
}
